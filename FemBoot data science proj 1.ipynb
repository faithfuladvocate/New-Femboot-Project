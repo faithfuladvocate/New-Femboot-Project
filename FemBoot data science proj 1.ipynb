{
 "cells": [
  {
   "cell_type": "markdown",
   "metadata": {},
   "source": [
    "# Project 1"
   ]
  },
  {
   "cell_type": "markdown",
   "metadata": {},
   "source": [
    "#### I. Considering the simple mathematical formular\n",
    "\n",
    "$$y = x^3 + \\sin(x)$$\n",
    "\n",
    "* Using numpy, generate 20 random values between 0 and 1 for the values of x i.e $x \\in [0, 1]$\n",
    "* Write a function for the formular and generate the corresponding values of $y$ for the generated $x$-values above\n",
    "* Visualize the plot of the given equation with the generated values\n",
    "\n",
    "Note: Set the numpy random seed to 10"
   ]
  },
  {
   "cell_type": "markdown",
   "metadata": {},
   "source": [
    "#### II. Swarm Behaviour Research Case Study\n",
    "\n",
    "The SwarmyAI Hub is currently engaged in research studies to investigate behavioural pattern of swarms in their habitat. A typical swarm exhibit a **\"flocking\"** or **\"non-flocking\"** pattern in their movement from one place to another. In addition to this individual movement style, while in a group, in their movement pattern may be aligned or not.\n",
    "\n",
    "As urgency demands in Swarmy's next publication, the hub requires your service as a ML Engineer to develop predictive model to determine to the movement pattern of some swarms that are yet to be categorised based on their ***flocking or non-flocking movement pattern only***. You have been provided with previously categorized and yet to dataset of the swarm movement pattern. Based on this, you are require to:-\n",
    " * perform descriptive statistics, EDA and data preprocessing (if needed)\n",
    " * build a baseline (simple) model\n",
    " * explore II other hyperparameterized models\n",
    " * evaluate the performance of your best model on the test dataset using appropriate metric\n",
    " * visualize and interprete the confusion matrix of your class label prediction on the test dataset\n",
    "\n",
    " \n",
    " \n",
    "Dataset Attribute Information: The attributes are xm, ym as the (X,Y) position of each boid, xVeln, yVeln as the velocity vector, xAm, yAm as the alignment vector, xSm, ySm as the separation vector, xCm, yCm as the cohesion vector, nACm as the number of boids in the radius of Alignment/Cohesion, and nSm as the number of boids in the radius of Separation. **The class label is 1 - flocking and 0 - non-flocking**"
   ]
  },
  {
   "cell_type": "code",
   "execution_count": null,
   "metadata": {},
   "outputs": [],
   "source": []
  }
 ],
 "metadata": {
  "kernelspec": {
   "display_name": "Python 3",
   "language": "python",
   "name": "python3"
  },
  "language_info": {
   "codemirror_mode": {
    "name": "ipython",
    "version": 3
   },
   "file_extension": ".py",
   "mimetype": "text/x-python",
   "name": "python",
   "nbconvert_exporter": "python",
   "pygments_lexer": "ipython3",
   "version": "3.8.5"
  }
 },
 "nbformat": 4,
 "nbformat_minor": 2
}
