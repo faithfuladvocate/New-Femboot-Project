{
 "cells": [
  {
   "cell_type": "code",
   "execution_count": 1,
   "metadata": {},
   "outputs": [],
   "source": [
    "import pandas as pd\n",
    "import numpy as np"
   ]
  },
  {
   "cell_type": "code",
   "execution_count": 2,
   "metadata": {},
   "outputs": [
    {
     "name": "stderr",
     "output_type": "stream",
     "text": [
      "C:\\Users\\faith\\Anaconda3\\lib\\site-packages\\IPython\\core\\interactiveshell.py:3146: DtypeWarning: Columns (0) have mixed types.Specify dtype option on import or set low_memory=False.\n",
      "  has_raised = await self.run_ast_nodes(code_ast.body, cell_name,\n"
     ]
    }
   ],
   "source": [
    "df = pd.read_csv('swarm_train_data.csv')"
   ]
  },
  {
   "cell_type": "markdown",
   "metadata": {},
   "source": [
    "## descriptive statistics, EDA, data preprocessing"
   ]
  },
  {
   "cell_type": "code",
   "execution_count": 3,
   "metadata": {},
   "outputs": [
    {
     "data": {
      "text/html": [
       "<div>\n",
       "<style scoped>\n",
       "    .dataframe tbody tr th:only-of-type {\n",
       "        vertical-align: middle;\n",
       "    }\n",
       "\n",
       "    .dataframe tbody tr th {\n",
       "        vertical-align: top;\n",
       "    }\n",
       "\n",
       "    .dataframe thead th {\n",
       "        text-align: right;\n",
       "    }\n",
       "</style>\n",
       "<table border=\"1\" class=\"dataframe\">\n",
       "  <thead>\n",
       "    <tr style=\"text-align: right;\">\n",
       "      <th></th>\n",
       "      <th>x1</th>\n",
       "      <th>y1</th>\n",
       "      <th>xVel1</th>\n",
       "      <th>yVel1</th>\n",
       "      <th>xA1</th>\n",
       "      <th>yA1</th>\n",
       "      <th>xS1</th>\n",
       "      <th>yS1</th>\n",
       "      <th>xC1</th>\n",
       "      <th>yC1</th>\n",
       "      <th>...</th>\n",
       "      <th>yVel200</th>\n",
       "      <th>xA200</th>\n",
       "      <th>yA200</th>\n",
       "      <th>xS200</th>\n",
       "      <th>yS200</th>\n",
       "      <th>xC200</th>\n",
       "      <th>yC200</th>\n",
       "      <th>nAC200</th>\n",
       "      <th>nS200</th>\n",
       "      <th>Class</th>\n",
       "    </tr>\n",
       "  </thead>\n",
       "  <tbody>\n",
       "    <tr>\n",
       "      <th>0</th>\n",
       "      <td>-489.28</td>\n",
       "      <td>-658.11</td>\n",
       "      <td>2.51</td>\n",
       "      <td>3.28</td>\n",
       "      <td>0.0</td>\n",
       "      <td>0.0</td>\n",
       "      <td>-0.26</td>\n",
       "      <td>0.35</td>\n",
       "      <td>0.93</td>\n",
       "      <td>-0.37</td>\n",
       "      <td>...</td>\n",
       "      <td>-4.17</td>\n",
       "      <td>0.0</td>\n",
       "      <td>0.0</td>\n",
       "      <td>0.33</td>\n",
       "      <td>0.29</td>\n",
       "      <td>-0.87</td>\n",
       "      <td>-0.50</td>\n",
       "      <td>112</td>\n",
       "      <td>40</td>\n",
       "      <td>1</td>\n",
       "    </tr>\n",
       "    <tr>\n",
       "      <th>1</th>\n",
       "      <td>-540.61</td>\n",
       "      <td>-670.93</td>\n",
       "      <td>-1.02</td>\n",
       "      <td>-4.76</td>\n",
       "      <td>0.0</td>\n",
       "      <td>0.0</td>\n",
       "      <td>-0.06</td>\n",
       "      <td>0.44</td>\n",
       "      <td>0.24</td>\n",
       "      <td>-0.97</td>\n",
       "      <td>...</td>\n",
       "      <td>-4.43</td>\n",
       "      <td>0.0</td>\n",
       "      <td>0.0</td>\n",
       "      <td>-0.15</td>\n",
       "      <td>0.41</td>\n",
       "      <td>-0.46</td>\n",
       "      <td>-0.89</td>\n",
       "      <td>112</td>\n",
       "      <td>9</td>\n",
       "      <td>1</td>\n",
       "    </tr>\n",
       "    <tr>\n",
       "      <th>2</th>\n",
       "      <td>379.83</td>\n",
       "      <td>-521.18</td>\n",
       "      <td>1.86</td>\n",
       "      <td>7.31</td>\n",
       "      <td>0.0</td>\n",
       "      <td>0.0</td>\n",
       "      <td>0.00</td>\n",
       "      <td>0.00</td>\n",
       "      <td>0.00</td>\n",
       "      <td>0.00</td>\n",
       "      <td>...</td>\n",
       "      <td>1.33</td>\n",
       "      <td>0.0</td>\n",
       "      <td>0.0</td>\n",
       "      <td>0.00</td>\n",
       "      <td>0.00</td>\n",
       "      <td>0.00</td>\n",
       "      <td>0.00</td>\n",
       "      <td>4</td>\n",
       "      <td>0</td>\n",
       "      <td>1</td>\n",
       "    </tr>\n",
       "    <tr>\n",
       "      <th>3</th>\n",
       "      <td>888.21</td>\n",
       "      <td>-146.53</td>\n",
       "      <td>-2.67</td>\n",
       "      <td>-18.10</td>\n",
       "      <td>0.0</td>\n",
       "      <td>0.0</td>\n",
       "      <td>0.00</td>\n",
       "      <td>0.00</td>\n",
       "      <td>0.00</td>\n",
       "      <td>0.00</td>\n",
       "      <td>...</td>\n",
       "      <td>-2.19</td>\n",
       "      <td>0.0</td>\n",
       "      <td>0.0</td>\n",
       "      <td>0.00</td>\n",
       "      <td>0.00</td>\n",
       "      <td>0.00</td>\n",
       "      <td>0.00</td>\n",
       "      <td>3</td>\n",
       "      <td>1</td>\n",
       "      <td>0</td>\n",
       "    </tr>\n",
       "    <tr>\n",
       "      <th>4</th>\n",
       "      <td>-452.43</td>\n",
       "      <td>-632.15</td>\n",
       "      <td>2.66</td>\n",
       "      <td>-2.63</td>\n",
       "      <td>0.0</td>\n",
       "      <td>0.0</td>\n",
       "      <td>-0.12</td>\n",
       "      <td>0.42</td>\n",
       "      <td>0.01</td>\n",
       "      <td>-1.00</td>\n",
       "      <td>...</td>\n",
       "      <td>2.54</td>\n",
       "      <td>0.0</td>\n",
       "      <td>0.0</td>\n",
       "      <td>0.00</td>\n",
       "      <td>0.00</td>\n",
       "      <td>-1.00</td>\n",
       "      <td>-0.10</td>\n",
       "      <td>112</td>\n",
       "      <td>0</td>\n",
       "      <td>1</td>\n",
       "    </tr>\n",
       "  </tbody>\n",
       "</table>\n",
       "<p>5 rows × 2401 columns</p>\n",
       "</div>"
      ],
      "text/plain": [
       "       x1      y1  xVel1  yVel1  xA1  yA1   xS1   yS1   xC1   yC1  ...  \\\n",
       "0 -489.28 -658.11   2.51   3.28  0.0  0.0 -0.26  0.35  0.93 -0.37  ...   \n",
       "1 -540.61 -670.93  -1.02  -4.76  0.0  0.0 -0.06  0.44  0.24 -0.97  ...   \n",
       "2  379.83 -521.18   1.86   7.31  0.0  0.0  0.00  0.00  0.00  0.00  ...   \n",
       "3  888.21 -146.53  -2.67 -18.10  0.0  0.0  0.00  0.00  0.00  0.00  ...   \n",
       "4 -452.43 -632.15   2.66  -2.63  0.0  0.0 -0.12  0.42  0.01 -1.00  ...   \n",
       "\n",
       "   yVel200  xA200  yA200  xS200  yS200  xC200  yC200  nAC200  nS200  Class   \n",
       "0    -4.17    0.0    0.0   0.33   0.29  -0.87  -0.50     112     40       1  \n",
       "1    -4.43    0.0    0.0  -0.15   0.41  -0.46  -0.89     112      9       1  \n",
       "2     1.33    0.0    0.0   0.00   0.00   0.00   0.00       4      0       1  \n",
       "3    -2.19    0.0    0.0   0.00   0.00   0.00   0.00       3      1       0  \n",
       "4     2.54    0.0    0.0   0.00   0.00  -1.00  -0.10     112      0       1  \n",
       "\n",
       "[5 rows x 2401 columns]"
      ]
     },
     "execution_count": 3,
     "metadata": {},
     "output_type": "execute_result"
    }
   ],
   "source": [
    "df.head()"
   ]
  },
  {
   "cell_type": "code",
   "execution_count": 4,
   "metadata": {},
   "outputs": [
    {
     "data": {
      "text/plain": [
       "(18013, 2401)"
      ]
     },
     "execution_count": 4,
     "metadata": {},
     "output_type": "execute_result"
    }
   ],
   "source": [
    "df.shape"
   ]
  },
  {
   "cell_type": "code",
   "execution_count": 5,
   "metadata": {},
   "outputs": [
    {
     "data": {
      "text/plain": [
       "<bound method DataFrame.info of             x1      y1  xVel1  yVel1   xA1   yA1   xS1   yS1   xC1   yC1  ...  \\\n",
       "0      -489.28 -658.11   2.51   3.28  0.00  0.00 -0.26  0.35  0.93 -0.37  ...   \n",
       "1      -540.61 -670.93  -1.02  -4.76  0.00  0.00 -0.06  0.44  0.24 -0.97  ...   \n",
       "2       379.83 -521.18   1.86   7.31  0.00  0.00  0.00  0.00  0.00  0.00  ...   \n",
       "3       888.21 -146.53  -2.67 -18.10  0.00  0.00  0.00  0.00  0.00  0.00  ...   \n",
       "4      -452.43 -632.15   2.66  -2.63  0.00  0.00 -0.12  0.42  0.01 -1.00  ...   \n",
       "...        ...     ...    ...    ...   ...   ...   ...   ...   ...   ...  ...   \n",
       "18008  -574.72 -176.30  -5.15  -5.88  0.00  0.00  0.00  0.00  0.00  0.00  ...   \n",
       "18009  -192.91 -997.61   5.70  -0.92 -0.14 -0.29  0.00  0.00  0.19  0.25  ...   \n",
       "18010   273.54  841.54  -4.74  -5.54 -0.73 -0.69  0.00  0.00  0.51 -0.86  ...   \n",
       "18011  1096.38 -270.36  -6.87  -0.65 -0.56  0.03  0.00  0.00 -0.32  0.05  ...   \n",
       "18012   237.53 -712.97   1.98   7.16  0.00  1.00  0.00  0.00  0.00  0.00  ...   \n",
       "\n",
       "       yVel200  xA200  yA200  xS200  yS200  xC200  yC200  nAC200  nS200  \\\n",
       "0        -4.17   0.00   0.00   0.33   0.29  -0.87  -0.50     112     40   \n",
       "1        -4.43   0.00   0.00  -0.15   0.41  -0.46  -0.89     112      9   \n",
       "2         1.33   0.00   0.00   0.00   0.00   0.00   0.00       4      0   \n",
       "3        -2.19   0.00   0.00   0.00   0.00   0.00   0.00       3      1   \n",
       "4         2.54   0.00   0.00   0.00   0.00  -1.00  -0.10     112      0   \n",
       "...        ...    ...    ...    ...    ...    ...    ...     ...    ...   \n",
       "18008    -8.51   0.00   0.00   0.00   0.00   0.00   0.00       0      0   \n",
       "18009    -2.06  -0.18  -0.27   0.00   0.00  -0.10   0.04       0      0   \n",
       "18010     5.16  -0.95   0.32   0.00   0.00  -0.86   0.51       6      1   \n",
       "18011    -0.18  -0.56  -0.04   0.00   0.00  -0.32   0.03      71      0   \n",
       "18012     5.59   0.00   1.00   0.00   0.00   0.00   0.00      77      0   \n",
       "\n",
       "       Class   \n",
       "0           1  \n",
       "1           1  \n",
       "2           1  \n",
       "3           0  \n",
       "4           1  \n",
       "...       ...  \n",
       "18008       0  \n",
       "18009       0  \n",
       "18010       1  \n",
       "18011       1  \n",
       "18012       0  \n",
       "\n",
       "[18013 rows x 2401 columns]>"
      ]
     },
     "execution_count": 5,
     "metadata": {},
     "output_type": "execute_result"
    }
   ],
   "source": [
    "df.info"
   ]
  },
  {
   "cell_type": "code",
   "execution_count": 6,
   "metadata": {},
   "outputs": [
    {
     "data": {
      "text/html": [
       "<div>\n",
       "<style scoped>\n",
       "    .dataframe tbody tr th:only-of-type {\n",
       "        vertical-align: middle;\n",
       "    }\n",
       "\n",
       "    .dataframe tbody tr th {\n",
       "        vertical-align: top;\n",
       "    }\n",
       "\n",
       "    .dataframe thead th {\n",
       "        text-align: right;\n",
       "    }\n",
       "</style>\n",
       "<table border=\"1\" class=\"dataframe\">\n",
       "  <thead>\n",
       "    <tr style=\"text-align: right;\">\n",
       "      <th></th>\n",
       "      <th>y1</th>\n",
       "      <th>xVel1</th>\n",
       "      <th>yVel1</th>\n",
       "      <th>xA1</th>\n",
       "      <th>yA1</th>\n",
       "      <th>xS1</th>\n",
       "      <th>yS1</th>\n",
       "      <th>xC1</th>\n",
       "      <th>yC1</th>\n",
       "      <th>nAC1</th>\n",
       "      <th>...</th>\n",
       "      <th>yVel200</th>\n",
       "      <th>xA200</th>\n",
       "      <th>yA200</th>\n",
       "      <th>xS200</th>\n",
       "      <th>yS200</th>\n",
       "      <th>xC200</th>\n",
       "      <th>yC200</th>\n",
       "      <th>nAC200</th>\n",
       "      <th>nS200</th>\n",
       "      <th>Class</th>\n",
       "    </tr>\n",
       "  </thead>\n",
       "  <tbody>\n",
       "    <tr>\n",
       "      <th>count</th>\n",
       "      <td>18013.000000</td>\n",
       "      <td>18013.000000</td>\n",
       "      <td>18013.000000</td>\n",
       "      <td>18013.000000</td>\n",
       "      <td>18013.000000</td>\n",
       "      <td>18013.000000</td>\n",
       "      <td>18013.000000</td>\n",
       "      <td>18013.000000</td>\n",
       "      <td>18013.000000</td>\n",
       "      <td>18013.000000</td>\n",
       "      <td>...</td>\n",
       "      <td>18013.000000</td>\n",
       "      <td>18013.000000</td>\n",
       "      <td>18013.000000</td>\n",
       "      <td>18013.000000</td>\n",
       "      <td>18013.000000</td>\n",
       "      <td>18013.000000</td>\n",
       "      <td>18013.000000</td>\n",
       "      <td>18013.000000</td>\n",
       "      <td>18013.000000</td>\n",
       "      <td>18013.000000</td>\n",
       "    </tr>\n",
       "    <tr>\n",
       "      <th>mean</th>\n",
       "      <td>-76.184822</td>\n",
       "      <td>-0.733670</td>\n",
       "      <td>0.183239</td>\n",
       "      <td>-0.148906</td>\n",
       "      <td>0.158274</td>\n",
       "      <td>-1.304686</td>\n",
       "      <td>-0.870929</td>\n",
       "      <td>-0.037237</td>\n",
       "      <td>0.076594</td>\n",
       "      <td>19.172986</td>\n",
       "      <td>...</td>\n",
       "      <td>0.215071</td>\n",
       "      <td>-0.125053</td>\n",
       "      <td>0.134539</td>\n",
       "      <td>-1.656987</td>\n",
       "      <td>-0.080935</td>\n",
       "      <td>-0.015850</td>\n",
       "      <td>0.090184</td>\n",
       "      <td>26.488925</td>\n",
       "      <td>2.190029</td>\n",
       "      <td>0.516682</td>\n",
       "    </tr>\n",
       "    <tr>\n",
       "      <th>std</th>\n",
       "      <td>572.116169</td>\n",
       "      <td>6.409622</td>\n",
       "      <td>7.376411</td>\n",
       "      <td>0.376818</td>\n",
       "      <td>0.593320</td>\n",
       "      <td>29.355828</td>\n",
       "      <td>22.649405</td>\n",
       "      <td>0.565769</td>\n",
       "      <td>0.637191</td>\n",
       "      <td>23.389772</td>\n",
       "      <td>...</td>\n",
       "      <td>7.679787</td>\n",
       "      <td>0.380890</td>\n",
       "      <td>0.572069</td>\n",
       "      <td>77.155840</td>\n",
       "      <td>7.402642</td>\n",
       "      <td>0.559505</td>\n",
       "      <td>0.622581</td>\n",
       "      <td>34.253546</td>\n",
       "      <td>7.633302</td>\n",
       "      <td>0.499735</td>\n",
       "    </tr>\n",
       "    <tr>\n",
       "      <th>min</th>\n",
       "      <td>-1010.420000</td>\n",
       "      <td>-18.590000</td>\n",
       "      <td>-18.410000</td>\n",
       "      <td>-1.000000</td>\n",
       "      <td>-1.000000</td>\n",
       "      <td>-944.070000</td>\n",
       "      <td>-847.910000</td>\n",
       "      <td>-2.680000</td>\n",
       "      <td>-2.680000</td>\n",
       "      <td>0.000000</td>\n",
       "      <td>...</td>\n",
       "      <td>-18.440000</td>\n",
       "      <td>-1.040000</td>\n",
       "      <td>-1.000000</td>\n",
       "      <td>-4079.230000</td>\n",
       "      <td>-370.240000</td>\n",
       "      <td>-2.680000</td>\n",
       "      <td>-2.680000</td>\n",
       "      <td>0.000000</td>\n",
       "      <td>0.000000</td>\n",
       "      <td>0.000000</td>\n",
       "    </tr>\n",
       "    <tr>\n",
       "      <th>25%</th>\n",
       "      <td>-612.120000</td>\n",
       "      <td>-5.410000</td>\n",
       "      <td>-5.640000</td>\n",
       "      <td>-0.240000</td>\n",
       "      <td>0.000000</td>\n",
       "      <td>0.000000</td>\n",
       "      <td>0.000000</td>\n",
       "      <td>-0.040000</td>\n",
       "      <td>-0.020000</td>\n",
       "      <td>3.000000</td>\n",
       "      <td>...</td>\n",
       "      <td>-5.440000</td>\n",
       "      <td>-0.200000</td>\n",
       "      <td>0.000000</td>\n",
       "      <td>0.000000</td>\n",
       "      <td>0.000000</td>\n",
       "      <td>-0.080000</td>\n",
       "      <td>0.000000</td>\n",
       "      <td>2.000000</td>\n",
       "      <td>0.000000</td>\n",
       "      <td>0.000000</td>\n",
       "    </tr>\n",
       "    <tr>\n",
       "      <th>50%</th>\n",
       "      <td>-160.550000</td>\n",
       "      <td>-0.440000</td>\n",
       "      <td>-1.360000</td>\n",
       "      <td>0.000000</td>\n",
       "      <td>0.000000</td>\n",
       "      <td>0.000000</td>\n",
       "      <td>0.000000</td>\n",
       "      <td>0.000000</td>\n",
       "      <td>0.000000</td>\n",
       "      <td>8.000000</td>\n",
       "      <td>...</td>\n",
       "      <td>-0.540000</td>\n",
       "      <td>0.000000</td>\n",
       "      <td>0.000000</td>\n",
       "      <td>0.000000</td>\n",
       "      <td>0.000000</td>\n",
       "      <td>0.000000</td>\n",
       "      <td>0.000000</td>\n",
       "      <td>12.000000</td>\n",
       "      <td>0.000000</td>\n",
       "      <td>1.000000</td>\n",
       "    </tr>\n",
       "    <tr>\n",
       "      <th>75%</th>\n",
       "      <td>418.170000</td>\n",
       "      <td>3.750000</td>\n",
       "      <td>7.390000</td>\n",
       "      <td>0.000000</td>\n",
       "      <td>0.970000</td>\n",
       "      <td>0.000000</td>\n",
       "      <td>0.000000</td>\n",
       "      <td>0.000000</td>\n",
       "      <td>0.020000</td>\n",
       "      <td>32.000000</td>\n",
       "      <td>...</td>\n",
       "      <td>7.580000</td>\n",
       "      <td>0.000000</td>\n",
       "      <td>0.650000</td>\n",
       "      <td>0.000000</td>\n",
       "      <td>0.000000</td>\n",
       "      <td>0.000000</td>\n",
       "      <td>0.040000</td>\n",
       "      <td>35.000000</td>\n",
       "      <td>1.000000</td>\n",
       "      <td>1.000000</td>\n",
       "    </tr>\n",
       "    <tr>\n",
       "      <th>max</th>\n",
       "      <td>1012.960000</td>\n",
       "      <td>18.470000</td>\n",
       "      <td>18.630000</td>\n",
       "      <td>1.000000</td>\n",
       "      <td>1.040000</td>\n",
       "      <td>68.560000</td>\n",
       "      <td>234.740000</td>\n",
       "      <td>2.680000</td>\n",
       "      <td>2.680000</td>\n",
       "      <td>157.000000</td>\n",
       "      <td>...</td>\n",
       "      <td>18.530000</td>\n",
       "      <td>1.000000</td>\n",
       "      <td>1.040000</td>\n",
       "      <td>255.990000</td>\n",
       "      <td>68.940000</td>\n",
       "      <td>2.680000</td>\n",
       "      <td>2.680000</td>\n",
       "      <td>142.000000</td>\n",
       "      <td>64.000000</td>\n",
       "      <td>1.000000</td>\n",
       "    </tr>\n",
       "  </tbody>\n",
       "</table>\n",
       "<p>8 rows × 2400 columns</p>\n",
       "</div>"
      ],
      "text/plain": [
       "                 y1         xVel1         yVel1           xA1           yA1  \\\n",
       "count  18013.000000  18013.000000  18013.000000  18013.000000  18013.000000   \n",
       "mean     -76.184822     -0.733670      0.183239     -0.148906      0.158274   \n",
       "std      572.116169      6.409622      7.376411      0.376818      0.593320   \n",
       "min    -1010.420000    -18.590000    -18.410000     -1.000000     -1.000000   \n",
       "25%     -612.120000     -5.410000     -5.640000     -0.240000      0.000000   \n",
       "50%     -160.550000     -0.440000     -1.360000      0.000000      0.000000   \n",
       "75%      418.170000      3.750000      7.390000      0.000000      0.970000   \n",
       "max     1012.960000     18.470000     18.630000      1.000000      1.040000   \n",
       "\n",
       "                xS1           yS1           xC1           yC1          nAC1  \\\n",
       "count  18013.000000  18013.000000  18013.000000  18013.000000  18013.000000   \n",
       "mean      -1.304686     -0.870929     -0.037237      0.076594     19.172986   \n",
       "std       29.355828     22.649405      0.565769      0.637191     23.389772   \n",
       "min     -944.070000   -847.910000     -2.680000     -2.680000      0.000000   \n",
       "25%        0.000000      0.000000     -0.040000     -0.020000      3.000000   \n",
       "50%        0.000000      0.000000      0.000000      0.000000      8.000000   \n",
       "75%        0.000000      0.000000      0.000000      0.020000     32.000000   \n",
       "max       68.560000    234.740000      2.680000      2.680000    157.000000   \n",
       "\n",
       "       ...       yVel200         xA200         yA200         xS200  \\\n",
       "count  ...  18013.000000  18013.000000  18013.000000  18013.000000   \n",
       "mean   ...      0.215071     -0.125053      0.134539     -1.656987   \n",
       "std    ...      7.679787      0.380890      0.572069     77.155840   \n",
       "min    ...    -18.440000     -1.040000     -1.000000  -4079.230000   \n",
       "25%    ...     -5.440000     -0.200000      0.000000      0.000000   \n",
       "50%    ...     -0.540000      0.000000      0.000000      0.000000   \n",
       "75%    ...      7.580000      0.000000      0.650000      0.000000   \n",
       "max    ...     18.530000      1.000000      1.040000    255.990000   \n",
       "\n",
       "              yS200         xC200         yC200        nAC200         nS200  \\\n",
       "count  18013.000000  18013.000000  18013.000000  18013.000000  18013.000000   \n",
       "mean      -0.080935     -0.015850      0.090184     26.488925      2.190029   \n",
       "std        7.402642      0.559505      0.622581     34.253546      7.633302   \n",
       "min     -370.240000     -2.680000     -2.680000      0.000000      0.000000   \n",
       "25%        0.000000     -0.080000      0.000000      2.000000      0.000000   \n",
       "50%        0.000000      0.000000      0.000000     12.000000      0.000000   \n",
       "75%        0.000000      0.000000      0.040000     35.000000      1.000000   \n",
       "max       68.940000      2.680000      2.680000    142.000000     64.000000   \n",
       "\n",
       "             Class   \n",
       "count  18013.000000  \n",
       "mean       0.516682  \n",
       "std        0.499735  \n",
       "min        0.000000  \n",
       "25%        0.000000  \n",
       "50%        1.000000  \n",
       "75%        1.000000  \n",
       "max        1.000000  \n",
       "\n",
       "[8 rows x 2400 columns]"
      ]
     },
     "execution_count": 6,
     "metadata": {},
     "output_type": "execute_result"
    }
   ],
   "source": [
    "df.describe() #mean,std,count"
   ]
  },
  {
   "cell_type": "code",
   "execution_count": 7,
   "metadata": {},
   "outputs": [
    {
     "data": {
      "text/plain": [
       "x1        0\n",
       "y1        0\n",
       "xVel1     0\n",
       "yVel1     0\n",
       "xA1       0\n",
       "         ..\n",
       "xC200     0\n",
       "yC200     0\n",
       "nAC200    0\n",
       "nS200     0\n",
       "Class     0\n",
       "Length: 2401, dtype: int64"
      ]
     },
     "execution_count": 7,
     "metadata": {},
     "output_type": "execute_result"
    }
   ],
   "source": [
    "df.isna().sum()"
   ]
  },
  {
   "cell_type": "code",
   "execution_count": 8,
   "metadata": {},
   "outputs": [],
   "source": [
    "df['x1'] = pd.to_numeric(df['x1'], errors= 'coerce')"
   ]
  },
  {
   "cell_type": "code",
   "execution_count": 9,
   "metadata": {},
   "outputs": [],
   "source": [
    "X = df['x1']"
   ]
  },
  {
   "cell_type": "code",
   "execution_count": 10,
   "metadata": {},
   "outputs": [
    {
     "data": {
      "text/plain": [
       "0        -489.28\n",
       "1        -540.61\n",
       "2         379.83\n",
       "3         888.21\n",
       "4        -452.43\n",
       "          ...   \n",
       "18008    -574.72\n",
       "18009    -192.91\n",
       "18010     273.54\n",
       "18011    1096.38\n",
       "18012     237.53\n",
       "Name: x1, Length: 18013, dtype: float64"
      ]
     },
     "execution_count": 10,
     "metadata": {},
     "output_type": "execute_result"
    }
   ],
   "source": [
    "X"
   ]
  },
  {
   "cell_type": "code",
   "execution_count": 11,
   "metadata": {},
   "outputs": [
    {
     "data": {
      "text/plain": [
       "1"
      ]
     },
     "execution_count": 11,
     "metadata": {},
     "output_type": "execute_result"
    }
   ],
   "source": [
    "X.isna().sum()"
   ]
  },
  {
   "cell_type": "code",
   "execution_count": 12,
   "metadata": {},
   "outputs": [],
   "source": [
    "X = X.fillna(method = 'ffill')"
   ]
  },
  {
   "cell_type": "code",
   "execution_count": 13,
   "metadata": {},
   "outputs": [
    {
     "data": {
      "text/plain": [
       "0"
      ]
     },
     "execution_count": 13,
     "metadata": {},
     "output_type": "execute_result"
    }
   ],
   "source": [
    "X.isna().sum()"
   ]
  },
  {
   "cell_type": "code",
   "execution_count": 14,
   "metadata": {},
   "outputs": [
    {
     "data": {
      "text/plain": [
       "pandas.core.series.Series"
      ]
     },
     "execution_count": 14,
     "metadata": {},
     "output_type": "execute_result"
    }
   ],
   "source": [
    "type(X)"
   ]
  },
  {
   "cell_type": "code",
   "execution_count": 15,
   "metadata": {},
   "outputs": [
    {
     "data": {
      "text/plain": [
       "array([-489.28, -540.61,  379.83, ...,  273.54, 1096.38,  237.53])"
      ]
     },
     "execution_count": 15,
     "metadata": {},
     "output_type": "execute_result"
    }
   ],
   "source": [
    "X.values"
   ]
  },
  {
   "cell_type": "code",
   "execution_count": 16,
   "metadata": {},
   "outputs": [],
   "source": [
    "X = X.values"
   ]
  },
  {
   "cell_type": "code",
   "execution_count": 17,
   "metadata": {},
   "outputs": [
    {
     "data": {
      "text/plain": [
       "(18013, 1)"
      ]
     },
     "execution_count": 17,
     "metadata": {},
     "output_type": "execute_result"
    }
   ],
   "source": [
    "X = X.reshape(-1,1)\n",
    "X.shape"
   ]
  },
  {
   "cell_type": "code",
   "execution_count": 18,
   "metadata": {},
   "outputs": [],
   "source": [
    "y = df['Class ']"
   ]
  },
  {
   "cell_type": "code",
   "execution_count": 19,
   "metadata": {},
   "outputs": [
    {
     "data": {
      "text/plain": [
       "0        1\n",
       "1        1\n",
       "2        1\n",
       "3        0\n",
       "4        1\n",
       "        ..\n",
       "18008    0\n",
       "18009    0\n",
       "18010    1\n",
       "18011    1\n",
       "18012    0\n",
       "Name: Class , Length: 18013, dtype: int64"
      ]
     },
     "execution_count": 19,
     "metadata": {},
     "output_type": "execute_result"
    }
   ],
   "source": [
    "y"
   ]
  },
  {
   "cell_type": "markdown",
   "metadata": {},
   "source": [
    "## building simple model"
   ]
  },
  {
   "cell_type": "code",
   "execution_count": 20,
   "metadata": {},
   "outputs": [
    {
     "data": {
      "text/plain": [
       "KNeighborsClassifier()"
      ]
     },
     "execution_count": 20,
     "metadata": {},
     "output_type": "execute_result"
    }
   ],
   "source": [
    "from sklearn.neighbors import KNeighborsClassifier\n",
    "knn = KNeighborsClassifier()\n",
    "knn"
   ]
  },
  {
   "cell_type": "code",
   "execution_count": 21,
   "metadata": {},
   "outputs": [
    {
     "data": {
      "text/plain": [
       "KNeighborsClassifier()"
      ]
     },
     "execution_count": 21,
     "metadata": {},
     "output_type": "execute_result"
    }
   ],
   "source": [
    "knn.fit(X,y)"
   ]
  },
  {
   "cell_type": "code",
   "execution_count": 22,
   "metadata": {},
   "outputs": [
    {
     "data": {
      "text/plain": [
       "0.7092100149891745"
      ]
     },
     "execution_count": 22,
     "metadata": {},
     "output_type": "execute_result"
    }
   ],
   "source": [
    "knn.score(X,y)"
   ]
  },
  {
   "cell_type": "code",
   "execution_count": 23,
   "metadata": {},
   "outputs": [
    {
     "data": {
      "text/plain": [
       "array([1], dtype=int64)"
      ]
     },
     "execution_count": 23,
     "metadata": {},
     "output_type": "execute_result"
    }
   ],
   "source": [
    "knn.predict([[107]])"
   ]
  },
  {
   "cell_type": "code",
   "execution_count": 24,
   "metadata": {},
   "outputs": [
    {
     "data": {
      "text/plain": [
       "array([0], dtype=int64)"
      ]
     },
     "execution_count": 24,
     "metadata": {},
     "output_type": "execute_result"
    }
   ],
   "source": [
    "knn.predict([[916]])"
   ]
  },
  {
   "cell_type": "markdown",
   "metadata": {},
   "source": [
    "## building other hyperparameterized models"
   ]
  },
  {
   "cell_type": "code",
   "execution_count": 34,
   "metadata": {},
   "outputs": [],
   "source": [
    "from sklearn.model_selection import train_test_split\n",
    "knn1 = KNeighborsClassifier()"
   ]
  },
  {
   "cell_type": "code",
   "execution_count": 35,
   "metadata": {},
   "outputs": [
    {
     "data": {
      "text/plain": [
       "[array([[-1325.46],\n",
       "        [ 1283.66],\n",
       "        [  879.17],\n",
       "        ...,\n",
       "        [ 1230.03],\n",
       "        [-1329.03],\n",
       "        [ 1341.27]]),\n",
       " array([[ 1038.58],\n",
       "        [  341.46],\n",
       "        [-1363.37],\n",
       "        ...,\n",
       "        [-1147.8 ],\n",
       "        [ 1225.17],\n",
       "        [ 1335.66]]),\n",
       " 10824    1\n",
       " 13698    1\n",
       " 14731    0\n",
       " 8103     1\n",
       " 16423    0\n",
       "         ..\n",
       " 13840    1\n",
       " 9618     1\n",
       " 570      0\n",
       " 17201    0\n",
       " 6312     1\n",
       " Name: Class , Length: 13509, dtype: int64,\n",
       " 13755    0\n",
       " 13264    1\n",
       " 10167    0\n",
       " 12458    0\n",
       " 5647     0\n",
       "         ..\n",
       " 4422     0\n",
       " 4183     1\n",
       " 6689     0\n",
       " 15120    1\n",
       " 16557    0\n",
       " Name: Class , Length: 4504, dtype: int64]"
      ]
     },
     "execution_count": 35,
     "metadata": {},
     "output_type": "execute_result"
    }
   ],
   "source": [
    "train_test_split(X,y)"
   ]
  },
  {
   "cell_type": "code",
   "execution_count": 45,
   "metadata": {},
   "outputs": [],
   "source": [
    "X_train,X_test,y_train,y_test = train_test_split(X,y,test_size = 0.3)"
   ]
  },
  {
   "cell_type": "code",
   "execution_count": 46,
   "metadata": {},
   "outputs": [
    {
     "data": {
      "text/plain": [
       "KNeighborsClassifier()"
      ]
     },
     "execution_count": 46,
     "metadata": {},
     "output_type": "execute_result"
    }
   ],
   "source": [
    "knn1.fit(X_train, y_train)"
   ]
  },
  {
   "cell_type": "code",
   "execution_count": 47,
   "metadata": {},
   "outputs": [
    {
     "data": {
      "text/plain": [
       "0.712744864779126"
      ]
     },
     "execution_count": 47,
     "metadata": {},
     "output_type": "execute_result"
    }
   ],
   "source": [
    "knn1.score(X_train, y_train)"
   ]
  },
  {
   "cell_type": "code",
   "execution_count": 48,
   "metadata": {},
   "outputs": [
    {
     "data": {
      "text/plain": [
       "0.5775351591413768"
      ]
     },
     "execution_count": 48,
     "metadata": {},
     "output_type": "execute_result"
    }
   ],
   "source": [
    "knn1.score(X_test, y_test)"
   ]
  },
  {
   "cell_type": "code",
   "execution_count": 49,
   "metadata": {},
   "outputs": [
    {
     "data": {
      "text/plain": [
       "LinearRegression()"
      ]
     },
     "execution_count": 49,
     "metadata": {},
     "output_type": "execute_result"
    }
   ],
   "source": [
    "from sklearn.linear_model import LinearRegression\n",
    "model = LinearRegression()\n",
    "model"
   ]
  },
  {
   "cell_type": "code",
   "execution_count": 51,
   "metadata": {},
   "outputs": [
    {
     "data": {
      "text/plain": [
       "LinearRegression()"
      ]
     },
     "execution_count": 51,
     "metadata": {},
     "output_type": "execute_result"
    }
   ],
   "source": [
    "model.fit(X,y)"
   ]
  },
  {
   "cell_type": "code",
   "execution_count": 52,
   "metadata": {},
   "outputs": [
    {
     "data": {
      "text/plain": [
       "0.001211466335512279"
      ]
     },
     "execution_count": 52,
     "metadata": {},
     "output_type": "execute_result"
    }
   ],
   "source": [
    "model.score(X,y)"
   ]
  },
  {
   "cell_type": "code",
   "execution_count": null,
   "metadata": {},
   "outputs": [],
   "source": []
  }
 ],
 "metadata": {
  "kernelspec": {
   "display_name": "Python 3",
   "language": "python",
   "name": "python3"
  },
  "language_info": {
   "codemirror_mode": {
    "name": "ipython",
    "version": 3
   },
   "file_extension": ".py",
   "mimetype": "text/x-python",
   "name": "python",
   "nbconvert_exporter": "python",
   "pygments_lexer": "ipython3",
   "version": "3.8.5"
  }
 },
 "nbformat": 4,
 "nbformat_minor": 4
}
